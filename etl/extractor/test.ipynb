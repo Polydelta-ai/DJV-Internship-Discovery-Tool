{
 "cells": [
  {
   "cell_type": "code",
   "execution_count": 18,
   "metadata": {},
   "outputs": [],
   "source": [
    "with open('indeed_search_terms.txt', 'r') as f:\n",
    "    text = f.read()\n",
    "    text = text.split('\\n')\n",
    "    text = [term.strip() for term in text]\n",
    "\n",
    "text"
   ]
  },
  {
   "cell_type": "code",
   "execution_count": 19,
   "metadata": {},
   "outputs": [
    {
     "data": {
      "text/plain": [
       "['conservation',\n",
       " 'ecology',\n",
       " 'husbandry',\n",
       " 'land management',\n",
       " 'biology',\n",
       " 'natural resources',\n",
       " 'public water',\n",
       " 'park ranger',\n",
       " 'agriculture',\n",
       " 'forestry',\n",
       " 'botany',\n",
       " 'environmental',\n",
       " 'species',\n",
       " 'fisheries',\n",
       " 'outdoors',\n",
       " 'wildlife',\n",
       " 'marine',\n",
       " 'aqua',\n",
       " 'horticulture']"
      ]
     },
     "execution_count": 19,
     "metadata": {},
     "output_type": "execute_result"
    }
   ],
   "source": [
    "text"
   ]
  },
  {
   "cell_type": "code",
   "execution_count": 15,
   "metadata": {},
   "outputs": [
    {
     "data": {
      "text/plain": [
       "'biology\\nnatural resources'"
      ]
     },
     "execution_count": 15,
     "metadata": {},
     "output_type": "execute_result"
    }
   ],
   "source": [
    "text[2]"
   ]
  },
  {
   "cell_type": "code",
   "execution_count": null,
   "metadata": {},
   "outputs": [],
   "source": []
  }
 ],
 "metadata": {
  "interpreter": {
   "hash": "3cddd25ca411fbee4e1de13c8254bc72d8d0336fa6eb8ce443b22e027565dc86"
  },
  "kernelspec": {
   "display_name": "Python 3.8.8 ('DJV-prototype-project')",
   "language": "python",
   "name": "python3"
  },
  "language_info": {
   "codemirror_mode": {
    "name": "ipython",
    "version": 3
   },
   "file_extension": ".py",
   "mimetype": "text/x-python",
   "name": "python",
   "nbconvert_exporter": "python",
   "pygments_lexer": "ipython3",
   "version": "3.8.8"
  },
  "orig_nbformat": 4
 },
 "nbformat": 4,
 "nbformat_minor": 2
}
