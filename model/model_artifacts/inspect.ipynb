{
 "cells": [
  {
   "cell_type": "code",
   "execution_count": 54,
   "metadata": {},
   "outputs": [],
   "source": [
    "import pandas as pd\n",
    "import os"
   ]
  },
  {
   "cell_type": "code",
   "execution_count": 55,
   "metadata": {},
   "outputs": [],
   "source": [
    "filenames = [f for f in os.listdir() if 'intern' in f]\n",
    "dfs = []\n",
    "for f in filenames:\n",
    "    df = pd.read_csv(f)\n",
    "    dfs.append(df)\n",
    "\n",
    "df = pd.concat(dfs, axis=1)\n",
    "df = df.T\n",
    "df.drop_duplicates(keep='first', inplace=True)\n",
    "internships = df.T.columns.to_list()[1:]\n",
    "internships = [int(i) for i in internships]"
   ]
  },
  {
   "cell_type": "code",
   "execution_count": 94,
   "metadata": {},
   "outputs": [
    {
     "name": "stdout",
     "output_type": "stream",
     "text": [
      "<class 'pandas.core.frame.DataFrame'>\n",
      "RangeIndex: 228 entries, 0 to 227\n",
      "Data columns (total 8 columns):\n",
      " #   Column                Non-Null Count  Dtype \n",
      "---  ------                --------------  ----- \n",
      " 0   Unnamed: 0            228 non-null    int64 \n",
      " 1   job_title             228 non-null    object\n",
      " 2   company_name          228 non-null    object\n",
      " 3   company_location      228 non-null    object\n",
      " 4   job_link              228 non-null    object\n",
      " 5   job_type              228 non-null    object\n",
      " 6   salary                228 non-null    object\n",
      " 7   full_job_description  228 non-null    object\n",
      "dtypes: int64(1), object(7)\n",
      "memory usage: 14.4+ KB\n",
      "None\n"
     ]
    }
   ],
   "source": [
    "model = pd.read_csv('model_run-2022-01-13_02-03AM.csv')\n",
    "tamu = pd.read_csv('tamu.csv')\n",
    "indeed = pd.read_csv('indeed.csv')\n",
    "usa_jobs = pd.read_csv('usa_jobs.csv')\n",
    "\n",
    "print(indeed.info())\n"
   ]
  },
  {
   "cell_type": "code",
   "execution_count": 53,
   "metadata": {},
   "outputs": [
    {
     "name": "stdout",
     "output_type": "stream",
     "text": [
      "157\n"
     ]
    }
   ],
   "source": [
    "job_title = model.iloc[142].job_title\n",
    "job_description = model.iloc[142].full_job_description\n",
    "company_name = model.iloc[142].company_name\n",
    "source = model.iloc[142].source\n",
    "source_index = model.iloc[142].source_index\n",
    "print(source_index)\n",
    "\n",
    "if source == \"tamu\":\n",
    "    link = tamu.iloc[142].URLs\n",
    "\n",
    "if source == \"usa_jos\":\n",
    "    link = usa_jobs.iloc[142].position_uri\n",
    "\n",
    "if source == \"indeed\":\n",
    "    link = indeed.iloc[142].Job_Link\n"
   ]
  },
  {
   "cell_type": "code",
   "execution_count": 88,
   "metadata": {},
   "outputs": [],
   "source": [
    "def show_top_10(iloc_list, df = model):\n",
    "    \n",
    "    weighted_columns = [c for c in df.columns.to_list() if \"W-\" in c]\n",
    "    data = df[weighted_columns]\n",
    "    \n",
    "    top_10_internships = []\n",
    "    top_10_weights = []\n",
    "    \n",
    "    \n",
    "    for i in iloc_list:\n",
    "        top_10 = data.iloc[i].sort_values(ascending=False).head(11)\n",
    "        ilocs = [int(s.replace('W-','')) for s in top_10.index.to_list()]\n",
    "        \n",
    "        top_10 = top_10[1:]\n",
    "        ilocs = ilocs[1:]     \n",
    "\n",
    "        top_10_weights.extend(top_10)\n",
    "        top_10_internships.extend(ilocs)\n",
    "        \n",
    "    combined_df = pd.DataFrame(dict(\n",
    "        ilocs = top_10_internships,\n",
    "        weights = top_10_weights,\n",
    "    ))\n",
    "\n",
    "    # print(combined_df)\n",
    "    combined_top = combined_df.sort_values(ascending=False, by='weights').head(10)\n",
    "    \n",
    "\n",
    "    return combined_top.ilocs.to_list()\n",
    "\n"
   ]
  },
  {
   "cell_type": "code",
   "execution_count": 89,
   "metadata": {},
   "outputs": [],
   "source": [
    "top = show_top_10(internships)\n"
   ]
  },
  {
   "cell_type": "code",
   "execution_count": 95,
   "metadata": {},
   "outputs": [],
   "source": [
    "def package_recommendations(top_internships):\n",
    "    \n",
    "    package = []\n",
    "\n",
    "    for job in top_internships:\n",
    "        job_title = model.iloc[job].job_title\n",
    "        job_description = model.iloc[job].full_job_description\n",
    "        company_name = model.iloc[job].company_name\n",
    "        source = model.iloc[job].source\n",
    "        source_index = model.iloc[job].source_index\n",
    "\n",
    "        if source == \"tamu\":\n",
    "            link = tamu.iloc[source_index].URLs\n",
    "\n",
    "        if source == \"usa_jos\":\n",
    "            link = usa_jobs.iloc[source_index].position_uri\n",
    "\n",
    "        if source == \"indeed\":\n",
    "            link = indeed.iloc[source_index].job_link\n",
    "\n",
    "        recommendation = dict(\n",
    "            job_title = job_title,\n",
    "            job_description = job_description,\n",
    "            company_name = company_name,\n",
    "            link = link\n",
    "        )\n",
    "\n",
    "        package.append(recommendation)\n",
    "    \n",
    "    return package"
   ]
  },
  {
   "cell_type": "code",
   "execution_count": 96,
   "metadata": {},
   "outputs": [
    {
     "data": {
      "text/plain": [
       "[{'job_title': 'Biologicial Science Technician - U.S. Military Veterans Only',\n",
       "  'job_description': \"U.S. Military Veterans! Do you love working in the outdoors? Are you ready to start a career with the U.S. Fish & Wildlife Service? Keep reading to learn more about this great veteran-only (paid) internship opportunity.Position Summary: In partnership with the Mt. Adams Institute (MAI), the Warm Springs National Fish Hatchery will sponsor a VetsWork AmeriCorps Intern to serve as a Biological Science Technician and Maintenance Mechanic. The primary function of this facility is to collect adult salmon, spawn and rear them for release each year. The salmon are a vital resource for a tribal and recreational fishery as well as a contribution to the commercial ocean fishery. Our purpose is Tribal Trust Responsibility, to ensure that salmon return to the Warm Springs River as part of the treaty rights of the Confederated Tribes of the Warm Springs of Oregon, and for recreational and tribal fishing on the Deschutes and Columbia Rivers. Every job the Intern will perform contributes to the success of this facility and its ability to provide salmon for harvest.Member Benefits Include: Monthly AmeriCorps living stipendAmeriCorps education awardFree bunkhouse housingStudent loan forbearanceBasic medical insurance (covers members only; vision and dental not included).Child care allowance for those who qualify.Access to G.I. Bill benefits of up to approximately $2,400 per month. Actual benefits vary by individuals’ qualified benefits.Professional development, trainings, certifications and networking opportunities.Essential Functions (to include, but not limited to):· Providing standard feeds to fish according to specific schedules following established protocols.· Observing fish to monitor their behavior and appearance for signs of stress or disease.· Operates and monitors fish culture equipment, which regulates water quantity and quality.· Cleaning and maintaining fish raceways.· Spawning adult fish.· Transporting/transferring eggs and fish.· Collecting and entering data, including water quality, fish feed provided, numbers of dead fish, etc…· Grounds maintenance to include improvement projects (use of some power tools, yard work, painting).POSITION REQUIREMENTS: Service Site - Warm Springs Fish Hatchery · Must have a valid driver's license, clean driving record and ability to provide documentation.· Demonstrate a good work ethic.· Willingness to communicate with the public.· Ability and willingness to serve outdoors in inclement weather with possible strenuous and repetitive physical activity and ability to lift up to 50 lbs.· Demonstrate attention to detail when collecting and recording data.· Demonstrate a desire to promote environmental stewardship.AmeriCorps· Must have served in US Armed Forces and have a DD214 with an honorable discharge.· At least 21 years of age at beginning of service term.· U.S. citizen, national or lawful permanent resident.· Possession of a high school diploma or equivalent, or commit to earning one prior to receiving education award.· Ability to commit to the full 45-week term of service.· Selection, placement and retention are contingent upon passing the National Sex Offender Public Registry, state of service and state of residence criminal history check and a national FBI check.COVID-19 Policy - Selected applicants will be required to follow the policies at their service site including any changes that are implemented throughout the course of the program.\\u202fThese policies may include vaccination or regular testing mandates (federal sites), masking / social distancing mandates,\\u202fremote / virtual work, altered field duties and other restrictions determined necessary to keep site staff, partners\\u202fand\\u202fthe public safe. Accepting a position means accepting the current requirements and any updates to those requirements while you are enrolled in the program.Position Title:  Biological Science Technician / Maintenance MechanicPartner Organization: Warm Springs Fish Hatchery - U.S. Fish & Wildlife ServiceWebsite: fws.gov/gorgefish/warmspringsnfh/aboutwarmsprings.cfmProject Location: 1 Fish Hatchery Road, Warm Springs, OR 97761Service Dates: February 7, 2022 to December 16, 2022 (1700-hour position)Questions??? - katie{{{at}}}mtadamsinstitute.org or visit:https://mtadamsinstitute.org/vetswork-environment-internships/.Job Types: Full-time, InternshipBenefits:Health insuranceProfessional development assistanceTuition reimbursementSchedule:8 hour shiftCOVID-19 considerations:Please see the official position description at: https://mtadamsinstitute.org/vetswork-environment-internships/.Application Question(s):Are you willing to follow Covid-19 policies as outlined in the position description?Do you live within one hour of Warm Springs, OR or are you willing to relocate to take part in the internship?Why are you interested in this position?License/Certification:Driver's License (Required)DD 214 w/Honorable or General Under Honorable discharge (Required)Work Location:One locationWork Remotely:NoWork Location: One location\",\n",
       "  'company_name': 'Mt. Adams Institute -- VetsWork',\n",
       "  'link': 'https://www.indeed.com/pagead/clk?mo=r&ad=-6NYlbfkN0CaPapgDRJPJogeNFngAxBsCUk_YQafH7ShItUfZGZ-_XgnlLJkxsuxngfD_bUyXGjb7z-wyUqzEVhnRwDH4wVnDG95dTP8huEYHG2-7mA7-qyhdh9GOxH0GTUH_lQ-8xN7Zuw35kPeTMvpkP7S1VtvZPoOriNOUHR9HR-0909eINq2ITjIt3nsN-jSp4HYeuLvChc2KLdStR28Rh-jQ84Fhfn6aEaA3UPh_1zIPak25Zj1os3Xp-RV0uybqddo42OUnMvtEtGUjmfe_ZtgiSJtYU9qQsZWuVxYVm3cyeghstqkyRKwgWbxFQyR7ahDEZwd5TcZLvZdNGDRuJV72J9inNp7pyV2zH7SBrSxKdmQ9ZNtxOdTWFe7exmbKxJoemiyjER6X2Wdwc086u_jcVnvcSVYIKgQ7PDNjoepUdchWWXgt9C-Ccxq4_ggui0svhqylMBUUSVanyxNkDFZ7lVZhhsOhEDKCMZ-nuGIzSfrKlP7fGxZG1C-_A6UsPkT18kec8qwHzK0cg==&p=14&fvj=1&vjs=3'},\n",
       " {'job_title': 'Biologicial Science Technician - U.S. Military Veterans Only',\n",
       "  'job_description': \"U.S. Military Veterans! Do you love working in the outdoors? Are you ready to start a career with the U.S. Fish & Wildlife Service? Keep reading to learn more about this great veteran-only (paid) internship opportunity.Position Summary: In partnership with the Mt. Adams Institute (MAI), the Warm Springs National Fish Hatchery will sponsor a VetsWork AmeriCorps Intern to serve as a Biological Science Technician and Maintenance Mechanic. The primary function of this facility is to collect adult salmon, spawn and rear them for release each year. The salmon are a vital resource for a tribal and recreational fishery as well as a contribution to the commercial ocean fishery. Our purpose is Tribal Trust Responsibility, to ensure that salmon return to the Warm Springs River as part of the treaty rights of the Confederated Tribes of the Warm Springs of Oregon, and for recreational and tribal fishing on the Deschutes and Columbia Rivers. Every job the Intern will perform contributes to the success of this facility and its ability to provide salmon for harvest.Member Benefits Include: Monthly AmeriCorps living stipendAmeriCorps education awardFree bunkhouse housingStudent loan forbearanceBasic medical insurance (covers members only; vision and dental not included).Child care allowance for those who qualify.Access to G.I. Bill benefits of up to approximately $2,400 per month. Actual benefits vary by individuals’ qualified benefits.Professional development, trainings, certifications and networking opportunities.Essential Functions (to include, but not limited to):· Providing standard feeds to fish according to specific schedules following established protocols.· Observing fish to monitor their behavior and appearance for signs of stress or disease.· Operates and monitors fish culture equipment, which regulates water quantity and quality.· Cleaning and maintaining fish raceways.· Spawning adult fish.· Transporting/transferring eggs and fish.· Collecting and entering data, including water quality, fish feed provided, numbers of dead fish, etc…· Grounds maintenance to include improvement projects (use of some power tools, yard work, painting).POSITION REQUIREMENTS: Service Site - Warm Springs Fish Hatchery · Must have a valid driver's license, clean driving record and ability to provide documentation.· Demonstrate a good work ethic.· Willingness to communicate with the public.· Ability and willingness to serve outdoors in inclement weather with possible strenuous and repetitive physical activity and ability to lift up to 50 lbs.· Demonstrate attention to detail when collecting and recording data.· Demonstrate a desire to promote environmental stewardship.AmeriCorps· Must have served in US Armed Forces and have a DD214 with an honorable discharge.· At least 21 years of age at beginning of service term.· U.S. citizen, national or lawful permanent resident.· Possession of a high school diploma or equivalent, or commit to earning one prior to receiving education award.· Ability to commit to the full 45-week term of service.· Selection, placement and retention are contingent upon passing the National Sex Offender Public Registry, state of service and state of residence criminal history check and a national FBI check.COVID-19 Policy - Selected applicants will be required to follow the policies at their service site including any changes that are implemented throughout the course of the program.\\u202fThese policies may include vaccination or regular testing mandates (federal sites), masking / social distancing mandates,\\u202fremote / virtual work, altered field duties and other restrictions determined necessary to keep site staff, partners\\u202fand\\u202fthe public safe. Accepting a position means accepting the current requirements and any updates to those requirements while you are enrolled in the program.Position Title:  Biological Science Technician / Maintenance MechanicPartner Organization: Warm Springs Fish Hatchery - U.S. Fish & Wildlife ServiceWebsite: fws.gov/gorgefish/warmspringsnfh/aboutwarmsprings.cfmProject Location: 1 Fish Hatchery Road, Warm Springs, OR 97761Service Dates: February 7, 2022 to December 16, 2022 (1700-hour position)Questions??? - katie{{{at}}}mtadamsinstitute.org or visit:https://mtadamsinstitute.org/vetswork-environment-internships/.Job Types: Full-time, InternshipBenefits:Health insuranceProfessional development assistanceTuition reimbursementSchedule:8 hour shiftCOVID-19 considerations:Please see the official position description at: https://mtadamsinstitute.org/vetswork-environment-internships/.Application Question(s):Are you willing to follow Covid-19 policies as outlined in the position description?Do you live within one hour of Warm Springs, OR or are you willing to relocate to take part in the internship?Why are you interested in this position?License/Certification:Driver's License (Required)DD 214 w/Honorable or General Under Honorable discharge (Required)Work Location:One locationWork Remotely:NoWork Location: One location\",\n",
       "  'company_name': 'Mt. Adams Institute -- VetsWork',\n",
       "  'link': 'https://www.indeed.com/pagead/clk?mo=r&ad=-6NYlbfkN0CaPapgDRJPJogeNFngAxBsCUk_YQafH7ShItUfZGZ-_XgnlLJkxsuxngfD_bUyXGjb7z-wyUqzEfWS-jTHMgGI3ttPopnU3iqIDszthfFJRxXg2iJAPtSa5iauRO48LGwvIlrYX_kgmnVvBVHpsJhfhkJRi99V65Dr1Vp6HXbpM5i_Y9cHChi7wdEA5vb0Zq9mqwtgn4--hvxcHUaHoXOPBq5oG4R1La-DZBLEv7Sgvt1lDi1OVEPD_xPmkPQFJPOR_S3TSADYZALc1U6Xc6_bIbHJ-V5ZPKnrkfQueJN4-PimMvvO2-upkVeFUyzfiiVq35QE2f6wwFX9mJF3bTn5tTM1eI51H1Xdwo_4v-HSM1gs45kZAJt6fAPQNCXNeiS6ENoaJVox9PfBQ9vEhwOl-xxIo3pXLl7o4G91uSETLbKrNHBDy07uJj4WOCaqiFua0UZ3qIRuEixnyXuzKw919pTc7cF8OBj4n5lLgNE6rQt8dWSIS3MPOYUcpzHfGgI9cbI5npA-jg==&p=14&fvj=1&vjs=3'},\n",
       " {'job_title': 'Sea Turtle, Inc. Conservation Intern – Texas',\n",
       "  'job_description': 'Sea Turtle, Inc. is a non-profit organization with a three-part mission of public education, sea turtle rehabilitation and conservation located on South Padre Island, Texas. Within our facilities, we offer educational presentations and a self-guided tour so visitors can view our rehabilitating patients and learn about sea turtle biology and conservation. Additionally, Sea Turtle, Inc. is responsible for nest conservation in the Rio Grande Valley. On average, our hospital admits approximately 40 - 100 sea turtles each year. \\n\\nSea Turtle, Inc. is looking for three interns to assist the Conservation Department with all activities related to the 2021 sea turtle nesting season. Interns will work with our conservation team to patrol, excavate, relocate, and protect sea turtle nests. Interns will also participate in overnight shifts to assist with sea turtle hatching activity. The ideal candidate will have great interest in field conservation and must be extremely comfortable working in adverse weather conditions at irregular hours. \\n\\nThe Sea Turtle, Inc. Conservation Intern responsibilities include:\\n•\\tConducting ATV patrols 4-5 times per week in adverse weather conditions including high winds, direct sunlight, high heat, and humidity.\\n•\\tTagging and collecting morphological data on sea turtle nesting females.\\n•\\tAssisting with excavating and relocating sea turtle nests.\\n•\\tAssisting in finding, retrieving, and documenting stranded sea turtles. \\n•\\tCamping overnight to assist with sea turtle hatching activity, including excavation, data collection, and hatchling releases. \\n•\\tAssisting Conservation Department with other duties and responsibilities related to the field conservation program including: vehicle and ATV maintenance, hatchery up-keep, documenting/burying deceased sea turtles, field equipment inventory and maintenance, among others. \\n\\nShared housing provided on South Padre Island, Texas with $35 per workday stipend. Houses are air-conditioned and equipped with basic furniture, Wi-Fi, and kitchen supplies. Please note, pets are not allowed in housing. Food and transportation not provided. Personal vehicle is not required on the island. A 40-hour work week is typical for this position includes long hours, including having to work holidays, weekends, and being on call for after-hours sea turtle activity. Preference will be given to applicants with previous experience working with nesting sea turtles. \\n\\nHow to Apply: Email resume, list of 3 professional references, and a letter of interest to Mariana Devlin at mariana.devlin@seaturtleinc.org',\n",
       "  'company_name': 'Sea Turtle, Inc.',\n",
       "  'link': 'https://wfscjobs.tamu.edu/jobs/sea-turtle-inc-conservation-intern-texas/'},\n",
       " {'job_title': 'Sea Turtle, Inc. Rehabilitation Intern – Texas',\n",
       "  'job_description': 'Sea Turtle, Inc. is a non-profit organization with a three-part mission of public education, sea turtle rehabilitation and conservation located on South Padre Island, Texas. Within our facilities, we offer educational presentations and a self-guided tour so visitors can view our rehabilitating patients and learn about sea turtle biology and conservation. Additionally, Sea Turtle, Inc. is responsible for nest conservation in the Rio Grande Valley. On average, our hospital admits approximately 40 - 100 sea turtles each year. \\n\\nSea Turtle, Inc. is looking for two interns to assist the Rehabilitation & Husbandry Department in our daily operations. Interns will have the opportunity to learn sea turtle rehabilitation methods and techniques through hands-on experiences, working directly with our rehab staff. Daily responsibilities will include, but are not limited to, feeding our residents and patients, food preparation, tank cleaning, and facility upkeep. Interns will also learn how to assist our rehab staff with medical treatments and surgical procedures.\\n\\nPosition Duties\\n•\\tFeeding our resident sea turtles, rehab patients, and fish\\n•\\tMonitoring animal appetite and general behavior \\n•\\tPreparing food according to staff instructions \\n•\\tPerforming daily water quality on our resident and rehab tanks \\n•\\tAssisting with new patient admittance and daily rehab procedures including stranding forms, restraint, calculating and administering medications, cold laser therapy, tube feeding, in-house blood work, applying PIT tags, and keeping medical records \\n•\\tAssisting with on-site surgery and necropsies as needed\\n•\\tResponding to and transporting live and dead sea turtle strandings\\n•\\tTank sanitation: skimming tanks and cleaning as needed while paying close attention to quarantine protocols\\n•\\tAssist with mass cold stranding events which typically consists of multiple days in a row of 10-12 + hour workdays\\n•\\tFacility upkeep: laundry, restocking, picking up trash, and cleaning as needed \\n•\\tComplete an intern project and present it to staff at the end of the internship\\n•\\tPerform other duties as assigned\\n\\nShared housing provided on South Padre Island, Texas with $35 per workday stipend. Houses are air-conditioned and equipped with basic furniture, Wi-Fi, and kitchen supplies. Please note, pets are not allowed in housing. Food and transportation not provided. Personal vehicle is not required on the island. A 40-hour work week is typical for this position includes long hours, including having to work holidays, weekends, and being on-call for after-hours stranding events. Preference will be given to applicants that are licensed/registered vet techs and/or have previous experience with wildlife rehabilitation and husbandry.\\n\\nHow to Apply: Email resume, list of 3 professional references, and a letter of interest to Nina Nahvi at nina.nahvi@seaturtleinc.org',\n",
       "  'company_name': 'Sea Turtle, Inc.',\n",
       "  'link': 'https://wfscjobs.tamu.edu/jobs/sea-turtle-inc-rehabilitation-intern-texas/'},\n",
       " {'job_title': 'Sea Turtle, Inc. Summer 2022 Education Intern, South Padre Island, TX',\n",
       "  'job_description': 'Sea Turtle, Inc. is a non-profit organization with a three-part mission of public education, sea turtle rehabilitation, and conservation. Within our facilities, we offer educational presentations and a self-guided tour so visitors can view our rehabilitating patients and learn about sea turtle biology and conservation. \\n\\nSea Turtle, Inc. is looking for two interns to assist the Education Department and enhance the visitor experience at our facility. The ideal candidate will have a great interest in informal Environmental Education. This internship involves daily interaction with the public.\\n\\nThe Sea Turtle, Inc. Education Intern responsibilities include:\\n•\\tGiving presentations in our outdoor amphitheater to groups of over 100, ranging from pre-k to senior citizens, and answering visitor questions \\n•\\tDelivering virtual learning programs to school groups and the general public\\n•\\tWorking in the museum area and rehabilitation center as exhibit interpreters\\n•\\tAssisting visitors with various exploration stations\\n•\\tProviding supplemental information on the life history and behaviors of sea turtles\\n•\\tInterpreting rehabilitation procedures and feeding techniques to the public\\n•\\tAssisting with and conducting outreach programs for people of all ages, in schools, and for various community groups\\n•\\tDeveloping and executing an applicable program or project to enhance the education efforts of our facility\\n\\nThis position also includes assisting both our Marketing Department and Gift Shop. Duties include but are not limited to promoting membership and adoption packages, assisting with social media content including Facebook Live videos, assisting with special events at the facility, operating registers, and pricing and restocking inventory.',\n",
       "  'company_name': 'Sea Turtle, Inc.',\n",
       "  'link': 'https://wfscjobs.tamu.edu/jobs/sea-turtle-inc-summer-2022-education-intern-south-padre-island-tx/'},\n",
       " {'job_title': 'Sea Turtle, Inc. Summer 2022 Rehabilitation Intern, South Padre Island, TX',\n",
       "  'job_description': 'Sea Turtle, Inc. is a non-profit organization with a three-part mission of public education, sea turtle rehabilitation, and conservation located on South Padre Island, Texas. Within our facilities, we offer educational presentations and a self-guided tour so visitors can view our rehabilitating patients and learn about sea turtle biology and conservation. On average, our hospital admits approximately 40 - 100 sea turtles each year. \\n\\nSea Turtle, Inc. is looking for two interns to assist the Rehabilitation & Husbandry Department in our daily operations. Interns will have the opportunity to learn sea turtle rehabilitation methods and techniques through hands-on experiences, working directly with our rehab staff. Daily responsibilities will include but are not limited to, feeding our residents and patients, food preparation, tank cleaning, and facility upkeep. Interns will also learn how to assist our rehab staff with medical treatments and surgical procedures.\\n\\nRehabilitation Intern Duties\\n•\\tFeeding our resident sea turtles, rehab patients, and fish\\n•\\tMonitoring animal appetite and general behavior \\n•\\tPreparing food according to staff instructions \\n•\\tPerforming daily water quality on our resident and rehab tanks \\n•\\tAssisting with new patient admittance and daily rehab procedures including stranding forms, restraint, calculating and administering medications, cold laser therapy, tube feeding, in-house blood work, applying PIT tags, and keeping medical records \\n•\\tAssisting with on-site surgery and necropsies as needed\\n•\\tResponding to and transporting live and dead sea turtle strandings\\n•\\tTank sanitation: skimming tanks and cleaning as needed while paying close attention to quarantine protocols \\n•\\tFacility upkeep: laundry, restocking, and cleaning as needed \\n•\\tPerform other duties as assigned',\n",
       "  'company_name': 'Sea Turtle, Inc.',\n",
       "  'link': 'https://wfscjobs.tamu.edu/jobs/sea-turtle-inc-summer-2022-rehabilitation-intern-south-padre-island-tx/'},\n",
       " {'job_title': 'USDA-ARS Crop Genetic Analysis Internship: Iowa',\n",
       "  'job_description': \"*Applications may be reviewed on a rolling-basis.\\n\\nARS Office/Lab and Location: A research opportunity is available with the U.S. Department of Agriculture (USDA), Agricultural Research Service (ARS), Corn Insects and Crop Genetics Research Unit located in Ames, Iowa.\\n\\nThe Agricultural Research Service (ARS) is the U.S. Department of Agriculture's chief scientific in-house research agency with a mission to find solutions to agricultural problems that affect Americans every day from field to table. ARS will deliver cutting-edge, scientific tools and innovative solutions for American farmers, producers, industry, and communities to support the nourishment and well-being of all people; sustain our nation’s agroecosystems and natural resources; and ensure the economic competitiveness and excellence of our agriculture. The vision the agency is to provide global leadership in agricultural discoveries through scientific excellence.\\n\\nResearch Project: This research opportunity will be part of the SoyBase and Legume Clade Database ARS research project, within the Corn Insects and Crop Genetics Research Unit. The participant will collaborate with unit scientists and support staff to (1) collect, organize, and integrate genetic and genomic data for soybean and other legume crops; (2) use genetic and genomic data to enable better understanding of the genetic basis for agronomic traits in soybean and other legume crops; and (3) help to maintain and develop SoyBase (https://soybase.org) and the Legume Information System (https://legumeinfo.org), the USDA’s genetics and genomics databases for the soybean and other legume crop and model legume species.\\n\\nThe participant will identify and catalog genes and genomic regions associated with important traits in legume crops (e.g. soybean, common bean, chickpea), and test for corresponding genes and regions between different legume species. The question to be asked in this project is: do important agronomic traits correspond through their evolutionary histories? For example, are regions associated with seed size in soybean related (in terms of sequence similarity and evolutionary history) with regions associated with seed size in common bean? \\n\\nTo address this question, the participant will use on-line computational tools developed in the SoyBase and Legume Clade Database project, and will read and process new literature, to identify and test regions of interest in several crop species. This will be a valuable learning experience for the participant and will provide the USDA-ARS project with useful feedback about computational tools and methods, as well as helping to build a catalog of genomic regions that can be used by plant breeders to produce improved crop varieties.\\n\\nLearning Objectives: The participant will learn biology associated with traits that are the focus of study, as well as statistical and computational methods used in the analysis. There are opportunities for discovery science related both to the underlying trait biology, and to the computational and analytical methods.\\n\\nOpportunities for professional development will include interactions with breeders and other researchers working on legume biology, through existing and planned collaborations; and to a broader swath of plant- and computational-biologists at research meetings and seminars.\\n\\nMentor(s): The mentor for this opportunity is Steve Cannon (steven.cannon@usda.gov). If you have questions about the nature of the research please contact the mentor(s).\\n\\nAnticipated Appointment Start Date: 2021.  Start date is flexible and will depend on a variety of factors.\\n\\nAppointment Length: The appointment will initially be for one year, but may be renewed upon recommendation of ARS and is contingent on the availability of funds.\\n\\nLevel of Participation: The appointment is full-time.\\n\\nParticipant Stipend: The participant will receive a monthly stipend commensurate with educational level and experience. A budget for travel and/or virtual meeting attendance will be provided.\\n\\nCitizenship Requirements: This opportunity is available to U.S. citizens only.\\n\\nORISE Information: This program, administered by ORAU through its contract with the U.S. Department of Energy (DOE) to manage the Oak Ridge Institute for Science and Education (ORISE), was established through an interagency agreement between DOE and ARS. Participants do not become employees of USDA, ARS, DOE or the program administrator, and there are no employment-related benefits. Proof of health insurance is required for participation in this program. Health insurance can be obtained through ORISE.\\n\\nQuestions: Please visit our Program Website. After reading, if you have additional questions about the application process please email USDA-ARS@orau.org and include the reference code for this opportunity.\",\n",
       "  'company_name': 'U.S. Department of Agriculture (USDA)',\n",
       "  'link': 'https://wfscjobs.tamu.edu/jobs/usda-ars-crop-genetic-analysis-internship-iowa/'},\n",
       " {'job_title': 'USDA-ARS Crop Genetic Analysis Research Opportunity – Iowa',\n",
       "  'job_description': \"*Applications may be reviewed on a rolling-basis.\\n\\nARS Office/Lab and Location: A research opportunity is available with the U.S. Department of Agriculture (USDA), Agricultural Research Service (ARS), Corn Insects and Crop Genetics Research Unit located in Ames, Iowa.\\n\\nThe Agricultural Research Service (ARS) is the U.S. Department of Agriculture's chief scientific in-house research agency with a mission to find solutions to agricultural problems that affect Americans every day from field to table. ARS will deliver cutting-edge, scientific tools and innovative solutions for American farmers, producers, industry, and communities to support the nourishment and well-being of all people; sustain our nation’s agroecosystems and natural resources; and ensure the economic competitiveness and excellence of our agriculture. The vision the agency is to provide global leadership in agricultural discoveries through scientific excellence.\\n\\nResearch Project: This post-Bachelor's research opportunity will be part of the SoyBase and Legume Clade Database ARS research project, within the Corn Insects and Crop Genetics Research Unit. The participant will collaborate with unit scientists and support staff to (1) collect, organize, and integrate genetic and genomic data for soybean and other legume crops; (2) use genetic and genomic data to enable better understanding of the genetic basis for agronomic traits in soybean and other legume crops; and (3) help to maintain and develop SoyBase (https://soybase.org) and the Legume Information System (https://legumeinfo.org), the USDA’s genetics and genomics databases for the soybean and other legume crop and model legume species.\\n\\nThe participant will identify and catalog genes and genomic regions associated with important traits in legume crops (e.g. soybean, common bean, chickpea), and test for corresponding genes and regions between different legume species. The question to be asked in this project is: do important agronomic traits correspond through their evolutionary histories? For example, are regions associated with seed size in soybean related (in terms of sequence similarity and evolutionary history) with regions associated with seed size in common bean? \\n\\nTo address this question, the participant will use on-line computational tools developed in the SoyBase and Legume Clade Database project, and will read and process new literature, to identify and test regions of interest in several crop species. This will be a valuable learning experience for the participant and will provide the USDA-ARS project with useful feedback about computational tools and methods, as well as helping to build a catalog of genomic regions that can be used by plant breeders to produce improved crop varieties.\\n\\nLearning Objectives: The participant will learn biology associated with traits that are the focus of study, as well as statistical and computational methods used in the analysis. There are opportunities for discovery science related both to the underlying trait biology, and to the computational and analytical methods.\\n\\nOpportunities for professional development will include interactions with breeders and other researchers working on legume biology, through existing and planned collaborations; and to a broader swath of plant- and computational-biologists at research meetings and seminars.\\n\\nMentor(s): The mentor for this opportunity is Steve Cannon (steven.cannon@usda.gov). If you have questions about the nature of the research please contact the mentor(s).\\n\\nAnticipated Appointment Start Date: May 2021.  Start date is flexible and will depend on a variety of factors.\\n\\nAppointment Length: The appointment will initially be for one year, but may be renewed upon recommendation of ARS and is contingent on the availability of funds.\\n\\nLevel of Participation: The appointment is full-time.\\n\\nParticipant Stipend: The participant will receive a monthly stipend commensurate with educational level and experience. A budget for travel and/or virtual meeting attendance will be provided.\\n\\nCitizenship Requirements: This opportunity is available to U.S. citizens only.\\n\\nORISE Information: This program, administered by ORAU through its contract with the U.S. Department of Energy (DOE) to manage the Oak Ridge Institute for Science and Education (ORISE), was established through an interagency agreement between DOE and ARS. Participants do not become employees of USDA, ARS, DOE or the program administrator, and there are no employment-related benefits. Proof of health insurance is required for participation in this program. Health insurance can be obtained through ORISE.\\n\\nQuestions: Please visit our Program Website. After reading, if you have additional questions about the application process please email USDA-ARS@orau.org and include the reference code for this opportunity.\",\n",
       "  'company_name': 'U.S. Department of Agriculture (USDA)',\n",
       "  'link': 'https://wfscjobs.tamu.edu/jobs/usda-ars-crop-genetic-analysis-research-opportunity-iowa/'},\n",
       " {'job_title': 'USDA-ARS Internship in Prion Diseases: Iowa',\n",
       "  'job_description': \"*Applications are reviewed on a rolling-basis and this posting could close before the deadline.\\n\\nARS Office/Lab and Location: A research opportunity is available with the U.S. Department of Agriculture (USDA), Agricultural Research Service (ARS), National Animal Disease Center, Virus and Prion Research Unit located in Ames, Iowa.\\n\\nThe Agricultural Research Service (ARS) is the U.S. Department of Agriculture's chief scientific in-house research agency with a mission to find solutions to agricultural problems that affect Americans every day from field to table. ARS will deliver cutting-edge, scientific tools and innovative solutions for American farmers, producers, industry, and communities to support the nourishment and well-being of all people; sustain our nation’s agroecosystems and natural resources; and ensure the economic competitiveness and excellence of our agriculture. The vision the agency is to provide global leadership in agricultural discoveries through scientific excellence.\\n\\nResearch Project: The lab of Dr. Eric Nicholson currently has a research opportunity for a recent graduate (within the past 60 months) focused on the detection and differentiation of prion diseases available. The participant will have the opportunity to gain practical research experience in a laboratory research environment and receive research and career mentoring. The goal of this opportunity is to help prepare for the participant's next step whether that be a Ph.D. program, DVM, MD, or direct entry into their chosen career. \\n\\nLearning Objectives: The research group involves both in vitro and in vivo projects related to the pathobiology, differentiation, and diagnosis of transmissible spongiform encephalopathies (TSEs). Participants will have the opportunity to develop expertise in a variety of laboratory techniques such as the use of western blot, ELISA, protein purification, spectroscopic (UV/VIS, fluorescence, and circular dichroism) analysis of proteins, and analysis and interpretation of data.\\n\\nMentor(s): The mentor for this opportunity is Eric Nicholson (eric.nicholson@usda.gov). If you have questions about the nature of the research please contact the mentor(s).\\n\\nAnticipated Appointment Start Date: Fall 2021.  Start date is flexible and will depend on a variety of factors.\\n\\nAppointment Length: The appointment will initially be for one year, but may be renewed upon recommendation of ARS and is contingent on the availability of funds.\\n\\nLevel of Participation: The appointment is full-time.\\n\\nParticipant Stipend: The participant will receive a monthly stipend commensurate with educational level and experience.\\n\\nCitizenship Requirements: This opportunity is available to U.S. citizens and Lawful Permanent Residents (LPR) only.\\n\\nORISE Information: This program, administered by ORAU through its contract with the U.S. Department of Energy (DOE) to manage the Oak Ridge Institute for Science and Education (ORISE), was established through an interagency agreement between DOE and ARS. Participants do not become employees of USDA, ARS, DOE or the program administrator, and there are no employment-related benefits. Proof of health insurance is required for participation in this program. Health insurance can be obtained through ORISE.\\n\\nQuestions: Please visit our Program Website. After reading, if you have additional questions about the application process please email USDA-ARS@orau.org and include the reference code for this opportunity.\",\n",
       "  'company_name': 'U.S. Department of Agriculture (USDA)',\n",
       "  'link': 'https://wfscjobs.tamu.edu/jobs/usda-ars-internship-in-prion-diseases-iowa/'},\n",
       " {'job_title': 'Sea Turtle, Inc. Summer 2022 Conservation Intern, South Padre Island, TX',\n",
       "  'job_description': 'Sea Turtle, Inc. is looking for three conservation interns for the summer 2022 field season. This internship provides the opportunity to gain hands-on experience with the day-to-day operations of field-based conservation work. \\n\\nDuties include, but are not limited to: \\n•\\tNesting patrols via ATV (4-5 times per week in adverse weather conditions including high winds, direct sunlight, high heat, rain, and humidity)\\n•\\tTagging nesting sea turtles \\n•\\tCollecting morphometric data on nesting sea turtles \\n•\\tExcavating, relocating sea turtle nests\\n•\\tOn-call stranding response, including locating, retrieving, and documenting live and deceased stranded sea turtles\\n•\\tOvernight shifts during hatching season, including nest excavation, data collection, and hatchling releases\\n•\\tAssisting the Conservation Department with other duties and responsibilities as needed, including but not limited to: vehicle and ATV maintenance, hatchery up-keep, documenting/burying deceased sea turtles, field equipment inventory and maintenance, etc.',\n",
       "  'company_name': 'Sea Turtle, Inc.',\n",
       "  'link': 'https://wfscjobs.tamu.edu/jobs/sea-turtle-inc-summer-2022-conservation-intern-south-padre-island-tx/'}]"
      ]
     },
     "execution_count": 96,
     "metadata": {},
     "output_type": "execute_result"
    }
   ],
   "source": [
    "package_recommendations(top)"
   ]
  },
  {
   "cell_type": "code",
   "execution_count": null,
   "metadata": {},
   "outputs": [],
   "source": []
  }
 ],
 "metadata": {
  "interpreter": {
   "hash": "4f2ac15e571a822f9dcb96924fbc8725ca1e9aa97c0fb50b8ef6ab1b7a6c34e4"
  },
  "kernelspec": {
   "display_name": "Python 3.8.8 64-bit ('DJV-Prototype-Project': conda)",
   "language": "python",
   "name": "python3"
  },
  "language_info": {
   "codemirror_mode": {
    "name": "ipython",
    "version": 3
   },
   "file_extension": ".py",
   "mimetype": "text/x-python",
   "name": "python",
   "nbconvert_exporter": "python",
   "pygments_lexer": "ipython3",
   "version": "3.8.8"
  },
  "orig_nbformat": 4
 },
 "nbformat": 4,
 "nbformat_minor": 2
}
