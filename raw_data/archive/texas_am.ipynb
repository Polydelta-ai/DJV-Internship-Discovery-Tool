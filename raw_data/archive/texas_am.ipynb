{
 "cells": [
  {
   "cell_type": "code",
   "execution_count": 67,
   "metadata": {},
   "outputs": [],
   "source": [
    "import pandas as pd"
   ]
  },
  {
   "cell_type": "code",
   "execution_count": 68,
   "metadata": {},
   "outputs": [],
   "source": [
    "tamu = pd.read_excel('texas_am_opportunities.xlsx')"
   ]
  },
  {
   "cell_type": "code",
   "execution_count": 69,
   "metadata": {},
   "outputs": [
    {
     "data": {
      "text/plain": [
       "Full time Positions                                                                    3513\n",
       "Temporary/Seasonal Positions                                                           3032\n",
       "Internships                                                                            1165\n",
       "Graduate Assistantships                                                                 626\n",
       "Post Doctoral Appointments                                                              368\n",
       "Part Time Vacancies                                                                     175\n",
       "Faculty Appointments                                                                    155\n",
       "Fellowships & Scholarships                                                               70\n",
       "Training                                                                                 59\n",
       "Volunteer Openings                                                                       57\n",
       "GIS & Computing                                                                          55\n",
       "-                                                                                        11\n",
       "Grants                                                                                   11\n",
       "Undergraduate Assistantships                                                              7\n",
       "Faculty Appointments, Fellowships & Scholarships, Full time Positions                     1\n",
       "Full time Positions, Internships, Part Time Vacancies, Temporary/Seasonal Positions       1\n",
       "Full time Positions, Temporary/Seasonal Positions                                         1\n",
       "Fellowships & Scholarships, Graduate Assistantships                                       1\n",
       "Name: Job Category, dtype: int64"
      ]
     },
     "execution_count": 69,
     "metadata": {},
     "output_type": "execute_result"
    }
   ],
   "source": [
    "tamu['Job Category'].value_counts()"
   ]
  },
  {
   "cell_type": "code",
   "execution_count": 45,
   "metadata": {},
   "outputs": [],
   "source": [
    "tamu = tamu[tamu['Job Category'].str.contains('Internships|Volunteer Openings|Fellowships & Scholarships')]\n"
   ]
  },
  {
   "cell_type": "code",
   "execution_count": 66,
   "metadata": {},
   "outputs": [],
   "source": [
    "tamu.to_csv('tamu_internships.csv')"
   ]
  },
  {
   "cell_type": "code",
   "execution_count": 62,
   "metadata": {},
   "outputs": [
    {
     "data": {
      "text/plain": [
       "\"Application Deadline: November 5, 2021\\nInternship Start Date: January 3, 2022\\nInternship End Date: January 3, 2023\\nStipend = $600/week + health insurance\\nDorm style, fully furnished housing provided (Personal Vehicle Required)\\n\\nIntern position description:  Hagerman National Wildlife Refuge is seeking a highly motivated individual to assist in visitor services, environmental education and public outreach in Sherman, Texas. The selected intern will gain a 360° view of what it takes to be a safe and effective employee in the U.S. Fish and Wildlife Service. Intern will work primarily in educational outreach and administrative duties for the refuge.\\nHagerman National Wildlife Refuge was established in 1946. The refuge is 75 miles from Dallas, TX. The Hagerman National Wildlife Refuge features thousands of acres of that provide a variety of habitats to wildlife and visitors alike. The Refuge plays a crucial role in the management and conservation of wildlife within the area. It is an important area for migratory birds using it for wintering grounds or a stop to replenish. Wildflowers and prairie grasses play a vital role in providing sustenance and shelter. Wildlife that are common are white-tailed deer, river otters, coyotes, turtles and even some fox squirrels. \\nWork Products: Key deliverables of the internship \\n•\\tVisitor Services – Intern will support the Refuge’s visitor center and other public facilities. Intern will help in staffing the front desk and providing refuge visitors with information. This position will provide support for other administrative duties that may arise. \\n•\\tInterpretation and Education – Intern will support and help manage a diverse array of the refuge’s interpretation and environmental education programs. This position will also assist with the creation of new educational programs. Intern will participate in the development, coordination, and implementation of site or issue specific outreach and communication.\\n•\\tRecreational management (wildlife)- Intern will contribute in the development, management, and implementation of a high quality and balanced visitor services program by recommending and implementing compatible wildlife-dependent recreation activities.\\n•\\tVolunteer Projects -Intern will aid in discovering prospective partnership activities with community organizations and corporations (Scouts, service organizations local governments and businesses). Intern will independently help lead small and large volunteer groups.\\n•\\tMedia - Intern will help with positively promoting the refuge using social media and other outlets. Intern will manage media during visitor service programs, including photography, informational pamphlets, and other informational tools.\\n•\\tAdministrative – Intern will help support the refuge with improving budget enhancement packages, such as: volunteer/friends group grants and assistance with contributed funds accounts.\\n•\\tVisitor Data management- Intern will assist the refuge’s staff in developing, conducting, and analyzing surveys and visitor use studies; and measuring expectations, quality, and satisfaction regarding the refuge's visitor services program.\""
      ]
     },
     "execution_count": 62,
     "metadata": {},
     "output_type": "execute_result"
    }
   ],
   "source": [
    "n = 5\n",
    "\n",
    "tamu[tamu.Description.str.contains('communication')].iloc[n].Description"
   ]
  }
 ],
 "metadata": {
  "interpreter": {
   "hash": "4f2ac15e571a822f9dcb96924fbc8725ca1e9aa97c0fb50b8ef6ab1b7a6c34e4"
  },
  "kernelspec": {
   "display_name": "Python 3.8.8 64-bit ('DJV-Prototype-Project': conda)",
   "language": "python",
   "name": "python3"
  },
  "language_info": {
   "codemirror_mode": {
    "name": "ipython",
    "version": 3
   },
   "file_extension": ".py",
   "mimetype": "text/x-python",
   "name": "python",
   "nbconvert_exporter": "python",
   "pygments_lexer": "ipython3",
   "version": "3.8.8"
  },
  "orig_nbformat": 4
 },
 "nbformat": 4,
 "nbformat_minor": 2
}
