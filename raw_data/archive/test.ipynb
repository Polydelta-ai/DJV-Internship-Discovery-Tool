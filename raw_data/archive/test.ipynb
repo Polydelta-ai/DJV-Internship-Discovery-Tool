{
 "cells": [
  {
   "cell_type": "code",
   "execution_count": 41,
   "metadata": {},
   "outputs": [],
   "source": [
    "from indeed_scraper import scrape_indeed_url"
   ]
  },
  {
   "cell_type": "code",
   "execution_count": 42,
   "metadata": {},
   "outputs": [
    {
     "name": "stdout",
     "output_type": "stream",
     "text": [
      "Requesting:  \n",
      "https://www.indeed.com/jobs?q=husbandry&l=United%20States&jt=internship&vjk=44eaf103eefe260a\n",
      "\n",
      "Repsonse Code:  200\n",
      "\n",
      "\n",
      "Successfully added:  Husbandry Assistant\n",
      "Successfully added:  Husbandry Assistant (LOCAL CANDIDATES ONLY)\n",
      "Successfully added:  Zookeeping and Animal Care\n",
      "Successfully added:  Aquaculture Technician\n",
      "Successfully added:  Live Management Trainee - Delmarva South\n",
      "Successfully added:  Research Technician in Stem Cell and Cancer Biology\n",
      "Successfully added:  San Antonio Wildlife Rehabilitation Apprentice\n",
      "Successfully added:  Wildlife Rehabilitation and Medicine FELLOWSHIP: 6-month\n",
      "Successfully added:  Environmental Education Fellowship\n",
      "Successfully added:  Environmental Education Leadership Fellow\n",
      "Successfully added:  Veterinarian\n",
      "Successfully added:  Veterinary Preceptorship\n",
      "Successfully added:  Wildlife Rehabilitation and Medicine Externship: UNDERGRADUATES\n",
      "Successfully added:  Veterinarian\n",
      "Creating a pandas dataframe...\n"
     ]
    }
   ],
   "source": [
    "new_notebook_test = scrape_indeed_url(\"\"\"\n",
    "https://www.indeed.com/jobs?q=husbandry&l=United%20States&jt=internship&vjk=44eaf103eefe260a\n",
    "\"\"\")"
   ]
  },
  {
   "cell_type": "code",
   "execution_count": 43,
   "metadata": {},
   "outputs": [
    {
     "name": "stdout",
     "output_type": "stream",
     "text": [
      "<class 'pandas.core.frame.DataFrame'>\n",
      "RangeIndex: 14 entries, 0 to 13\n",
      "Data columns (total 8 columns):\n",
      " #   Column                Non-Null Count  Dtype \n",
      "---  ------                --------------  ----- \n",
      " 0   job_title             14 non-null     object\n",
      " 1   company_name          14 non-null     object\n",
      " 2   company_location      14 non-null     object\n",
      " 3   job_link              14 non-null     object\n",
      " 4   job_type              14 non-null     object\n",
      " 5   salary                14 non-null     object\n",
      " 6   full_job_description  14 non-null     object\n",
      " 7   extract_date          14 non-null     object\n",
      "dtypes: object(8)\n",
      "memory usage: 1.0+ KB\n"
     ]
    }
   ],
   "source": [
    "new_notebook_test.info()"
   ]
  },
  {
   "cell_type": "code",
   "execution_count": 44,
   "metadata": {},
   "outputs": [],
   "source": [
    "new_notebook_test.to_csv('husbandry.csv')"
   ]
  },
  {
   "cell_type": "code",
   "execution_count": null,
   "metadata": {},
   "outputs": [],
   "source": []
  }
 ],
 "metadata": {
  "interpreter": {
   "hash": "4f2ac15e571a822f9dcb96924fbc8725ca1e9aa97c0fb50b8ef6ab1b7a6c34e4"
  },
  "kernelspec": {
   "display_name": "Python 3.8.8 64-bit ('DJV-Prototype-Project': conda)",
   "language": "python",
   "name": "python3"
  },
  "language_info": {
   "codemirror_mode": {
    "name": "ipython",
    "version": 3
   },
   "file_extension": ".py",
   "mimetype": "text/x-python",
   "name": "python",
   "nbconvert_exporter": "python",
   "pygments_lexer": "ipython3",
   "version": "3.8.8"
  },
  "orig_nbformat": 4
 },
 "nbformat": 4,
 "nbformat_minor": 2
}
