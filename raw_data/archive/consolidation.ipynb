{
 "cells": [
  {
   "cell_type": "code",
   "execution_count": 1,
   "metadata": {},
   "outputs": [],
   "source": [
    "import pandas as pd\n",
    "import os\n"
   ]
  },
  {
   "cell_type": "code",
   "execution_count": 2,
   "metadata": {},
   "outputs": [
    {
     "data": {
      "text/plain": [
       "['uscities.csv',\n",
       " 'usa_jobs_internships.csv',\n",
       " 'natural_resource_management_internships.csv',\n",
       " 'land_management.csv',\n",
       " 'sustainable_agriculture_internships.csv',\n",
       " 'park_ranger_internships.csv',\n",
       " 'ecology_internship.csv',\n",
       " 'environmental_internships.csv',\n",
       " 'marine.csv',\n",
       " 'test.csv',\n",
       " 'tamu_internships.csv',\n",
       " 'indeed_new_run.csv',\n",
       " 'college_majors.csv',\n",
       " 'indeed.csv',\n",
       " 'mosaic-studies-and-competencies.csv',\n",
       " 'review_indeed.csv',\n",
       " 'conservation_internships.csv',\n",
       " 'public_water_internships.csv',\n",
       " 'similarirty.csv',\n",
       " 'husbandry.csv']"
      ]
     },
     "execution_count": 2,
     "metadata": {},
     "output_type": "execute_result"
    }
   ],
   "source": [
    "files = os.listdir()\n",
    "csv_files = [f for f in files if \"csv\" in f]\n",
    "\n",
    "csv_files"
   ]
  },
  {
   "cell_type": "code",
   "execution_count": 3,
   "metadata": {},
   "outputs": [],
   "source": [
    "csv_files = [\n",
    "    'natural_resource_management_internships.csv',\n",
    "    'land_management.csv',\n",
    "    'sustainable_agriculture_internships.csv',\n",
    "    'ecology_internship.csv',\n",
    "    'environmental_internships.csv',\n",
    "    'marine.csv',\n",
    "    'conservation_internships.csv',\n",
    "    'husbandry.csv',\n",
    "    'test.csv',\n",
    "    'public_water_internships.csv',\n",
    "]"
   ]
  },
  {
   "cell_type": "code",
   "execution_count": 5,
   "metadata": {},
   "outputs": [
    {
     "name": "stdout",
     "output_type": "stream",
     "text": [
      "<class 'pandas.core.frame.DataFrame'>\n",
      "Int64Index: 295 entries, 0 to 294\n",
      "Data columns (total 9 columns):\n",
      " #   Column                Non-Null Count  Dtype \n",
      "---  ------                --------------  ----- \n",
      " 0   Unnamed: 0            295 non-null    object\n",
      " 1   job_title             295 non-null    object\n",
      " 2   company_name          295 non-null    object\n",
      " 3   company_location      295 non-null    object\n",
      " 4   job_link              295 non-null    object\n",
      " 5   job_type              295 non-null    object\n",
      " 6   salary                295 non-null    object\n",
      " 7   full_job_description  295 non-null    object\n",
      " 8   extract_date          223 non-null    object\n",
      "dtypes: object(9)\n",
      "memory usage: 23.0+ KB\n"
     ]
    }
   ],
   "source": [
    "dfs = [pd.read_csv(csv_file) for csv_file in csv_files]\n",
    "consolidated_df = pd.concat(dfs, axis=0, ignore_index=True)\n",
    "consolidated_df.info()"
   ]
  },
  {
   "cell_type": "code",
   "execution_count": 6,
   "metadata": {},
   "outputs": [
    {
     "name": "stdout",
     "output_type": "stream",
     "text": [
      "<class 'pandas.core.frame.DataFrame'>\n",
      "Int64Index: 228 entries, 0 to 294\n",
      "Data columns (total 7 columns):\n",
      " #   Column                Non-Null Count  Dtype \n",
      "---  ------                --------------  ----- \n",
      " 0   job_title             228 non-null    object\n",
      " 1   company_name          228 non-null    object\n",
      " 2   company_location      228 non-null    object\n",
      " 3   job_link              228 non-null    object\n",
      " 4   job_type              228 non-null    object\n",
      " 5   salary                228 non-null    object\n",
      " 6   full_job_description  228 non-null    object\n",
      "dtypes: object(7)\n",
      "memory usage: 14.2+ KB\n"
     ]
    }
   ],
   "source": [
    "consolidated_df = consolidated_df[list(consolidated_df.columns)[1:-1]]\n",
    "\n",
    "consolidated_df.info()"
   ]
  },
  {
   "cell_type": "code",
   "execution_count": 7,
   "metadata": {},
   "outputs": [],
   "source": []
  }
 ],
 "metadata": {
  "interpreter": {
   "hash": "4f2ac15e571a822f9dcb96924fbc8725ca1e9aa97c0fb50b8ef6ab1b7a6c34e4"
  },
  "kernelspec": {
   "display_name": "Python 3.8.8 64-bit ('DJV-Prototype-Project': conda)",
   "language": "python",
   "name": "python3"
  },
  "language_info": {
   "codemirror_mode": {
    "name": "ipython",
    "version": 3
   },
   "file_extension": ".py",
   "mimetype": "text/x-python",
   "name": "python",
   "nbconvert_exporter": "python",
   "pygments_lexer": "ipython3",
   "version": "3.8.8"
  },
  "orig_nbformat": 4
 },
 "nbformat": 4,
 "nbformat_minor": 2
}
