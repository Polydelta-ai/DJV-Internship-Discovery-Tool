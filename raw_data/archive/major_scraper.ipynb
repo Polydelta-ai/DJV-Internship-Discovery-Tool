{
 "cells": [
  {
   "cell_type": "code",
   "execution_count": 22,
   "metadata": {},
   "outputs": [
    {
     "name": "stdout",
     "output_type": "stream",
     "text": [
      "Requirement already satisfied: beautifulsoup4 in c:\\users\\james taylor\\anaconda3\\envs\\pycaret_env\\lib\\site-packages (4.10.0)\n",
      "Requirement already satisfied: soupsieve>1.2 in c:\\users\\james taylor\\anaconda3\\envs\\pycaret_env\\lib\\site-packages (from beautifulsoup4) (2.3.1)\n"
     ]
    }
   ],
   "source": [
    "!pip install beautifulsoup4"
   ]
  },
  {
   "cell_type": "code",
   "execution_count": 23,
   "metadata": {},
   "outputs": [],
   "source": [
    "#imports\n",
    "import requests\n",
    "from bs4 import BeautifulSoup\n",
    "import pandas as pd"
   ]
  },
  {
   "cell_type": "code",
   "execution_count": 24,
   "metadata": {},
   "outputs": [],
   "source": [
    "URL = \"https://www.jvis.com/uguide/majordesc.htm\"\n",
    "page = requests.get(URL)\n",
    "\n",
    "soup = BeautifulSoup(page.content, \"html.parser\")"
   ]
  },
  {
   "cell_type": "code",
   "execution_count": 25,
   "metadata": {},
   "outputs": [],
   "source": [
    "#scraping major titles\n",
    "major_titles = soup.find_all('h2')\n",
    "major_titles = [title.text for title in major_titles]"
   ]
  },
  {
   "cell_type": "code",
   "execution_count": 26,
   "metadata": {},
   "outputs": [],
   "source": [
    "#scraping major descriptions\n",
    "descriptions = soup.find_all('p')\n",
    "descriptions = [item.text for item in descriptions][1:]"
   ]
  },
  {
   "cell_type": "code",
   "execution_count": 27,
   "metadata": {},
   "outputs": [],
   "source": [
    "#scraping major classes\n",
    "def get_class(item):\n",
    "    return item[item.find('[') + 1: item.find(']')]\n",
    "\n",
    "major_classes = [get_class(item) for item in descriptions]"
   ]
  },
  {
   "cell_type": "code",
   "execution_count": 28,
   "metadata": {},
   "outputs": [],
   "source": [
    "majors_df = pd.DataFrame({\n",
    "    'title' : major_titles,\n",
    "    'description' : descriptions,\n",
    "    'class' : major_classes,\n",
    "})\n",
    "\n",
    "#updating class for Art History\n",
    "majors_df.iloc[14, majors_df.columns.get_loc('class')] = \"ART AND ARCHITECTURE\""
   ]
  },
  {
   "cell_type": "code",
   "execution_count": 29,
   "metadata": {},
   "outputs": [],
   "source": [
    "majors_df.to_csv('college_majors.csv', index=False)"
   ]
  }
 ],
 "metadata": {
  "interpreter": {
   "hash": "4f2ac15e571a822f9dcb96924fbc8725ca1e9aa97c0fb50b8ef6ab1b7a6c34e4"
  },
  "kernelspec": {
   "display_name": "Python 3.8.8 64-bit ('DJV-Prototype-Project': conda)",
   "language": "python",
   "name": "python3"
  },
  "language_info": {
   "codemirror_mode": {
    "name": "ipython",
    "version": 3
   },
   "file_extension": ".py",
   "mimetype": "text/x-python",
   "name": "python",
   "nbconvert_exporter": "python",
   "pygments_lexer": "ipython3",
   "version": "3.6.13"
  },
  "orig_nbformat": 4
 },
 "nbformat": 4,
 "nbformat_minor": 2
}
