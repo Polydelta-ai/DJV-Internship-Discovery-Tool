{
 "cells": [
  {
   "cell_type": "code",
   "execution_count": 2,
   "metadata": {},
   "outputs": [],
   "source": [
    "import pandas as pd"
   ]
  },
  {
   "cell_type": "code",
   "execution_count": 3,
   "metadata": {},
   "outputs": [
    {
     "name": "stdout",
     "output_type": "stream",
     "text": [
      "<class 'pandas.core.frame.DataFrame'>\n",
      "RangeIndex: 9308 entries, 0 to 9307\n",
      "Data columns (total 14 columns):\n",
      " #   Column              Non-Null Count  Dtype \n",
      "---  ------              --------------  ----- \n",
      " 0   Titles              9308 non-null   object\n",
      " 1   URLs                9308 non-null   object\n",
      " 2   Agency              9308 non-null   object\n",
      " 3   Location            9308 non-null   object\n",
      " 4   Job Category        9308 non-null   object\n",
      " 5   Salary              9094 non-null   object\n",
      " 6   Start Date          9308 non-null   object\n",
      " 7   Last Date to Apply  9308 non-null   object\n",
      " 8   Website             9308 non-null   object\n",
      " 9   Description         9308 non-null   object\n",
      " 10  Qualifications      9304 non-null   object\n",
      " 11  Contact Person      9307 non-null   object\n",
      " 12  Contact Phone       9305 non-null   object\n",
      " 13  Contact Email       9308 non-null   object\n",
      "dtypes: object(14)\n",
      "memory usage: 1018.2+ KB\n"
     ]
    }
   ],
   "source": [
    "# Opportunity Sets\n",
    "texas_am_opportunities = pd.read_excel('texas_am_opportunities.xlsx')\n",
    "texas_am_opportunities.info()\n"
   ]
  },
  {
   "cell_type": "code",
   "execution_count": 4,
   "metadata": {},
   "outputs": [
    {
     "name": "stdout",
     "output_type": "stream",
     "text": [
      "<class 'pandas.core.frame.DataFrame'>\n",
      "RangeIndex: 1628 entries, 0 to 1627\n",
      "Data columns (total 10 columns):\n",
      " #   Column            Non-Null Count  Dtype \n",
      "---  ------            --------------  ----- \n",
      " 0   Title             1628 non-null   object\n",
      " 1   IndeedJobPostURL  1628 non-null   object\n",
      " 2   Salary            1628 non-null   object\n",
      " 3   Company           1628 non-null   object\n",
      " 4   Job Type          1628 non-null   object\n",
      " 5   Job Description   1628 non-null   object\n",
      " 6   Phone             1626 non-null   object\n",
      " 7   Email             1624 non-null   object\n",
      " 8   OriginalJobLink   1628 non-null   object\n",
      " 9   Location          1628 non-null   object\n",
      "dtypes: object(10)\n",
      "memory usage: 127.3+ KB\n"
     ]
    }
   ],
   "source": [
    "indeed_opprotunities = pd.read_csv('indeed.csv')\n",
    "indeed_opprotunities.info()"
   ]
  },
  {
   "cell_type": "code",
   "execution_count": 5,
   "metadata": {},
   "outputs": [
    {
     "name": "stdout",
     "output_type": "stream",
     "text": [
      "<class 'pandas.core.frame.DataFrame'>\n",
      "Int64Index: 1166 entries, 15 to 9306\n",
      "Data columns (total 14 columns):\n",
      " #   Column              Non-Null Count  Dtype \n",
      "---  ------              --------------  ----- \n",
      " 0   Titles              1166 non-null   object\n",
      " 1   URLs                1166 non-null   object\n",
      " 2   Agency              1166 non-null   object\n",
      " 3   Location            1166 non-null   object\n",
      " 4   Job Category        1166 non-null   object\n",
      " 5   Salary              1089 non-null   object\n",
      " 6   Start Date          1166 non-null   object\n",
      " 7   Last Date to Apply  1166 non-null   object\n",
      " 8   Website             1166 non-null   object\n",
      " 9   Description         1166 non-null   object\n",
      " 10  Qualifications      1166 non-null   object\n",
      " 11  Contact Person      1166 non-null   object\n",
      " 12  Contact Phone       1166 non-null   object\n",
      " 13  Contact Email       1166 non-null   object\n",
      "dtypes: object(14)\n",
      "memory usage: 136.6+ KB\n"
     ]
    }
   ],
   "source": [
    "texas_am_internships = texas_am_opportunities[texas_am_opportunities['Job Category'].str.contains('Internships')]\n",
    "texas_am_internships.info()"
   ]
  },
  {
   "cell_type": "code",
   "execution_count": 11,
   "metadata": {},
   "outputs": [
    {
     "data": {
      "text/plain": [
       "'Full-time, Internship'"
      ]
     },
     "execution_count": 11,
     "metadata": {},
     "output_type": "execute_result"
    }
   ],
   "source": [
    "indeed_opprotunities['Job Type'].iloc[17]"
   ]
  },
  {
   "cell_type": "code",
   "execution_count": null,
   "metadata": {},
   "outputs": [],
   "source": []
  }
 ],
 "metadata": {
  "interpreter": {
   "hash": "3cddd25ca411fbee4e1de13c8254bc72d8d0336fa6eb8ce443b22e027565dc86"
  },
  "kernelspec": {
   "display_name": "Python 3.8.8 64-bit ('DJV-prototype-project': conda)",
   "language": "python",
   "name": "python3"
  },
  "language_info": {
   "codemirror_mode": {
    "name": "ipython",
    "version": 3
   },
   "file_extension": ".py",
   "mimetype": "text/x-python",
   "name": "python",
   "nbconvert_exporter": "python",
   "pygments_lexer": "ipython3",
   "version": "3.8.8"
  },
  "orig_nbformat": 4
 },
 "nbformat": 4,
 "nbformat_minor": 2
}
