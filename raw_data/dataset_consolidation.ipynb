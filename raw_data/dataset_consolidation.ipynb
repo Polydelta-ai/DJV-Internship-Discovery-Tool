{
 "cells": [
  {
   "cell_type": "code",
   "execution_count": 1,
   "metadata": {},
   "outputs": [],
   "source": [
    "import pandas as pd\n",
    "import os"
   ]
  },
  {
   "cell_type": "code",
   "execution_count": 3,
   "metadata": {},
   "outputs": [
    {
     "name": "stdout",
     "output_type": "stream",
     "text": [
      "34.34\n"
     ]
    }
   ],
   "source": [
    "print(\n",
    "    f'{0.343423 * 100 :.2f}'\n",
    ")"
   ]
  },
  {
   "cell_type": "code",
   "execution_count": 38,
   "metadata": {},
   "outputs": [],
   "source": [
    "# load datasets\n",
    "indeed = pd.read_csv('indeed.csv')\n",
    "indeed = indeed[indeed.columns.to_list()[1:]]\n",
    "\n",
    "tamu = pd.read_csv('tamu.csv')\n",
    "tamu = tamu[tamu.columns.to_list()[1:]]\n",
    "\n",
    "usa_jobs = pd.read_csv('usa_jobs.csv')\n",
    "usa_jobs = usa_jobs[usa_jobs.columns.to_list()[1:]]"
   ]
  },
  {
   "cell_type": "code",
   "execution_count": 39,
   "metadata": {},
   "outputs": [
    {
     "name": "stdout",
     "output_type": "stream",
     "text": [
      "<class 'pandas.core.frame.DataFrame'>\n",
      "RangeIndex: 51 entries, 0 to 50\n",
      "Data columns (total 19 columns):\n",
      " #   Column                      Non-Null Count  Dtype  \n",
      "---  ------                      --------------  -----  \n",
      " 0   job_title                   51 non-null     object \n",
      " 1   position_uri                51 non-null     object \n",
      " 2   position_apply_uri          51 non-null     object \n",
      " 3   position_location           51 non-null     object \n",
      " 4   company_name                51 non-null     object \n",
      " 5   department                  51 non-null     object \n",
      " 6   qualifications              51 non-null     object \n",
      " 7   min_pay                     51 non-null     float64\n",
      " 8   max_pay                     51 non-null     float64\n",
      " 9   pay_type                    51 non-null     object \n",
      " 10  position_offering_type      51 non-null     object \n",
      " 11  job_category                51 non-null     object \n",
      " 12  job_summary                 51 non-null     object \n",
      " 13  agency_marketing_statement  43 non-null     object \n",
      " 14  full_job_description        51 non-null     object \n",
      " 15  education                   46 non-null     object \n",
      " 16  requirements                26 non-null     object \n",
      " 17  evaluation                  51 non-null     object \n",
      " 18  key_requirements            51 non-null     object \n",
      "dtypes: float64(2), object(17)\n",
      "memory usage: 7.7+ KB\n"
     ]
    }
   ],
   "source": [
    "usa_jobs.rename(columns =dict(\n",
    "    position_title = \"job_title\",\n",
    "    organization = \"company_name\",\n",
    "    major_duties = \"full_job_description\"\n",
    "), inplace=True)\n",
    "\n",
    "usa_jobs.info()"
   ]
  },
  {
   "cell_type": "code",
   "execution_count": 33,
   "metadata": {},
   "outputs": [
    {
     "name": "stdout",
     "output_type": "stream",
     "text": [
      "<class 'pandas.core.frame.DataFrame'>\n",
      "RangeIndex: 1295 entries, 0 to 1294\n",
      "Data columns (total 14 columns):\n",
      " #   Column                Non-Null Count  Dtype \n",
      "---  ------                --------------  ----- \n",
      " 0   job_title             1295 non-null   object\n",
      " 1   URLs                  1295 non-null   object\n",
      " 2   company_name          1295 non-null   object\n",
      " 3   Location              1295 non-null   object\n",
      " 4   Job Category          1295 non-null   object\n",
      " 5   Salary                1187 non-null   object\n",
      " 6   Start Date            1295 non-null   object\n",
      " 7   Last Date to Apply    1295 non-null   object\n",
      " 8   Website               1295 non-null   object\n",
      " 9   full_job_description  1295 non-null   object\n",
      " 10  Qualifications        1295 non-null   object\n",
      " 11  Contact Person        1295 non-null   object\n",
      " 12  Contact Phone         1295 non-null   object\n",
      " 13  Contact Email         1295 non-null   object\n",
      "dtypes: object(14)\n",
      "memory usage: 141.8+ KB\n"
     ]
    }
   ],
   "source": [
    "tamu.rename(columns=dict(\n",
    "    Titles = \"job_title\",\n",
    "    Agency = \"company_name\",\n",
    "    Description = \"full_job_description\",\n",
    "), inplace=True)\n",
    "\n",
    "tamu.info()\n"
   ]
  },
  {
   "cell_type": "code",
   "execution_count": 34,
   "metadata": {},
   "outputs": [
    {
     "name": "stdout",
     "output_type": "stream",
     "text": [
      "<class 'pandas.core.frame.DataFrame'>\n",
      "Int64Index: 1165 entries, 1 to 1294\n",
      "Data columns (total 14 columns):\n",
      " #   Column                Non-Null Count  Dtype \n",
      "---  ------                --------------  ----- \n",
      " 0   job_title             1165 non-null   object\n",
      " 1   URLs                  1165 non-null   object\n",
      " 2   company_name          1165 non-null   object\n",
      " 3   Location              1165 non-null   object\n",
      " 4   Job Category          1165 non-null   object\n",
      " 5   Salary                1088 non-null   object\n",
      " 6   Start Date            1165 non-null   object\n",
      " 7   Last Date to Apply    1165 non-null   object\n",
      " 8   Website               1165 non-null   object\n",
      " 9   full_job_description  1165 non-null   object\n",
      " 10  Qualifications        1165 non-null   object\n",
      " 11  Contact Person        1165 non-null   object\n",
      " 12  Contact Phone         1165 non-null   object\n",
      " 13  Contact Email         1165 non-null   object\n",
      "dtypes: object(14)\n",
      "memory usage: 136.5+ KB\n"
     ]
    }
   ],
   "source": [
    "tamu = tamu[tamu['Job Category']==\"Internships\"]\n",
    "tamu.info()"
   ]
  },
  {
   "cell_type": "code",
   "execution_count": 35,
   "metadata": {},
   "outputs": [
    {
     "name": "stdout",
     "output_type": "stream",
     "text": [
      "<class 'pandas.core.frame.DataFrame'>\n",
      "RangeIndex: 228 entries, 0 to 227\n",
      "Data columns (total 7 columns):\n",
      " #   Column                Non-Null Count  Dtype \n",
      "---  ------                --------------  ----- \n",
      " 0   job_title             228 non-null    object\n",
      " 1   company_name          228 non-null    object\n",
      " 2   company_location      228 non-null    object\n",
      " 3   job_link              228 non-null    object\n",
      " 4   job_type              228 non-null    object\n",
      " 5   salary                228 non-null    object\n",
      " 6   full_job_description  228 non-null    object\n",
      "dtypes: object(7)\n",
      "memory usage: 12.6+ KB\n"
     ]
    }
   ],
   "source": [
    "indeed.info()"
   ]
  },
  {
   "cell_type": "code",
   "execution_count": 36,
   "metadata": {},
   "outputs": [
    {
     "name": "stdout",
     "output_type": "stream",
     "text": [
      "<class 'pandas.core.frame.DataFrame'>\n",
      "Int64Index: 1444 entries, 1 to 227\n",
      "Data columns (total 5 columns):\n",
      " #   Column                Non-Null Count  Dtype \n",
      "---  ------                --------------  ----- \n",
      " 0   job_title             1444 non-null   object\n",
      " 1   full_job_description  1444 non-null   object\n",
      " 2   company_name          1444 non-null   object\n",
      " 3   source                1444 non-null   object\n",
      " 4   source_index          1444 non-null   int64 \n",
      "dtypes: int64(1), object(4)\n",
      "memory usage: 67.7+ KB\n"
     ]
    }
   ],
   "source": [
    "# Create index for each dataframe and consolidate\n",
    "indeed['source'] = 'indeed'\n",
    "indeed['source_index'] = indeed.index.to_list()\n",
    "\n",
    "tamu['source'] = 'tamu'\n",
    "tamu['source_index'] = tamu.index.to_list()\n",
    "\n",
    "usa_jobs['source'] = 'usa_jobs'\n",
    "usa_jobs['source_index'] = usa_jobs.index.to_list()\n",
    "\n",
    "data = []\n",
    "for df in [tamu, usa_jobs, indeed]:\n",
    "    subdf = df[[\n",
    "        \"job_title\",\n",
    "        \"full_job_description\",\n",
    "        \"company_name\",\n",
    "        \"source\",\n",
    "        \"source_index\"\n",
    "    ]]\n",
    "    data.append(subdf)\n",
    "\n",
    "data = pd.concat(data, axis=0)\n",
    "data.job_title = data.job_title.str.replace(\"ACE:\",\"\")\n",
    "data.info()"
   ]
  },
  {
   "cell_type": "code",
   "execution_count": 37,
   "metadata": {},
   "outputs": [],
   "source": [
    "data.to_csv('combined_source_data.csv', index=False)"
   ]
  }
 ],
 "metadata": {
  "interpreter": {
   "hash": "4f2ac15e571a822f9dcb96924fbc8725ca1e9aa97c0fb50b8ef6ab1b7a6c34e4"
  },
  "kernelspec": {
   "display_name": "Python 3.8.8 64-bit ('DJV-Prototype-Project': conda)",
   "language": "python",
   "name": "python3"
  },
  "language_info": {
   "codemirror_mode": {
    "name": "ipython",
    "version": 3
   },
   "file_extension": ".py",
   "mimetype": "text/x-python",
   "name": "python",
   "nbconvert_exporter": "python",
   "pygments_lexer": "ipython3",
   "version": "3.8.8"
  },
  "orig_nbformat": 4
 },
 "nbformat": 4,
 "nbformat_minor": 2
}
