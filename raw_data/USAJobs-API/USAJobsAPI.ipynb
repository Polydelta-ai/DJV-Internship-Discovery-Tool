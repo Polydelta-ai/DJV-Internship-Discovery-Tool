{
 "cells": [
  {
   "cell_type": "code",
   "execution_count": 1,
   "metadata": {},
   "outputs": [],
   "source": [
    "import requests\n",
    "import numpy as np\n",
    "import pandas as pd\n",
    "\n",
    "from local_config import userAgent, authKey\n",
    "import feature_engine as fe\n",
    "import enums\n",
    "import pandas as pd"
   ]
  },
  {
   "cell_type": "code",
   "execution_count": 2,
   "metadata": {},
   "outputs": [],
   "source": [
    "class USA_JOBS_SEARCH:\n",
    "    \"\"\"\n",
    "    This class queries the USA Jobs Search API for specific parameters and parses \n",
    "    the results into a tidy pandas dataframe.\n",
    "\n",
    "    This class uses the requests, pandas, and a local config file to pass API credentials\n",
    "\n",
    "    Example usage:\n",
    "    \n",
    "    # create an USA Jobs Search Object\n",
    "    internships = USA_JOBS_SEARCH({\n",
    "        \"Keyword\": 'Internship',\n",
    "        \"PositionOfferingType\": 'Student'\n",
    "        })\n",
    "    \n",
    "    # Attributes\n",
    "        result.df : pandas dataframe\n",
    "        results.parameters_dict : dictionary of search parameters\n",
    "        results.base_url: API base url\n",
    "\n",
    "    \"\"\"\n",
    "\n",
    "    def __init__(self, parameters_dict, userAgent = userAgent, authKey = authKey):\n",
    "        self.parameters_dict = parameters_dict\n",
    "        self.headers = {\n",
    "            \"Host\": \"data.usajobs.gov\",\n",
    "            \"User-Agent\": userAgent,\n",
    "            \"Authorization-Key\": authKey,\n",
    "            }\n",
    "        self.base_url = \"https://data.usajobs.gov/api/search?ResultsPerPage=500\"\n",
    "        \n",
    "        self.initial_response = self.get_response_json(self.parameters_dict)\n",
    "        self.response_number_of_pages = self._get_number_of_pages()\n",
    "        self.all_api_results = self._get_all_api_results()\n",
    "        self.df = self._get_parsed_results_df()\n",
    "        \n",
    "\n",
    "    def get_response_json(self,parameters):\n",
    "        response = requests.get(self.base_url, params=parameters, headers=self.headers)\n",
    "        print(response.url)\n",
    "        data = response.json()\n",
    "    \n",
    "        return data\n",
    "\n",
    "    def _get_number_of_pages(self):\n",
    "        return int(self.initial_response['SearchResult']['UserArea']['NumberOfPages']) # returns an intenger\n",
    "\n",
    "    def _get_all_api_results(self):\n",
    "        all_api_page_results = []\n",
    "        for i in range(self.response_number_of_pages):\n",
    "            parameters = self.parameters_dict\n",
    "            parameters['Page'] = i + 1\n",
    "            \n",
    "\n",
    "            page_results = self.get_response_json(parameters)\n",
    "            page_results = page_results['SearchResult']['SearchResultItems']\n",
    "            all_api_page_results.append(page_results)\n",
    "\n",
    "        all_api_results = []\n",
    "        for lst in all_api_page_results:\n",
    "            all_api_results.extend(lst)\n",
    "\n",
    "        \n",
    "        all_api_results = [all_api_results[i]['MatchedObjectDescriptor'] for i in range(len(all_api_results))]\n",
    "\n",
    "        return all_api_results\n",
    "\n",
    "\n",
    "    def _parse_api_results(self, oppty):\n",
    "        internship_data = dict(\n",
    "            usajobs_id = oppty['PositionID'],\n",
    "            position_title = oppty['PositionTitle'],\n",
    "            position_uri = oppty['PositionURI'],\n",
    "            position_apply_uri = oppty['ApplyURI'],\n",
    "            position_location = oppty['PositionLocationDisplay'],\n",
    "            organization = oppty['OrganizationName'],\n",
    "            department = oppty['DepartmentName'],\n",
    "            qualifications = oppty['QualificationSummary'],\n",
    "            min_pay = oppty['PositionRemuneration'][0]['MinimumRange'],\n",
    "            max_pay = oppty['PositionRemuneration'][0]['MaximumRange'],\n",
    "            pay_type = oppty['PositionRemuneration'][0]['RateIntervalCode'],\n",
    "            position_offering_type = oppty['PositionOfferingType'][0]['Name'],\n",
    "            job_category = oppty['JobCategory'][0]['Name'],\n",
    "            job_summary = oppty['UserArea']['Details']['JobSummary'],\n",
    "            agency_marketing_statement = oppty['UserArea']['Details']['AgencyMarketingStatement'],\n",
    "            major_duties = oppty['UserArea']['Details']['MajorDuties'][0],\n",
    "            education = oppty['UserArea']['Details']['Education'],\n",
    "            requirements = oppty['UserArea']['Details']['Requirements'],\n",
    "            evaluation = oppty['UserArea']['Details']['Evaluations'],\n",
    "            key_requirements = oppty['UserArea']['Details']['KeyRequirements'],\n",
    "        )\n",
    "        return internship_data\n",
    "    \n",
    "    def _get_parsed_results_df(self):\n",
    "\n",
    "        parsed_results_dictionary =  [self._parse_api_results(result) for result in self.all_api_results]\n",
    "        parsed_results_dataframe = pd.DataFrame(parsed_results_dictionary)\n",
    "\n",
    "        return parsed_results_dataframe\n"
   ]
  },
  {
   "cell_type": "code",
   "execution_count": 3,
   "metadata": {},
   "outputs": [
    {
     "name": "stdout",
     "output_type": "stream",
     "text": [
      "https://data.usajobs.gov/api/search?ResultsPerPage=500&Keyword=student&HiringPath=student\n",
      "https://data.usajobs.gov/api/search?ResultsPerPage=500&Keyword=student&HiringPath=student&Page=1\n"
     ]
    }
   ],
   "source": [
    "internships = USA_JOBS_SEARCH({\n",
    "    \"Keyword\": 'student',\n",
    "    \"HiringPath\": 'student',\n",
    "})"
   ]
  },
  {
   "cell_type": "code",
   "execution_count": 4,
   "metadata": {},
   "outputs": [],
   "source": [
    "# How many records are there?\n",
    "df = internships.df\n"
   ]
  },
  {
   "cell_type": "code",
   "execution_count": 5,
   "metadata": {},
   "outputs": [],
   "source": [
    "position_title_filters =[\n",
    "    \"student\",\n",
    "    \"volunteer\",\n",
    "    \"trainee\",\n",
    "    \"internship\",\n",
    "    \"intern\",\n",
    "    \"environmental\",\n",
    "    \"environment\"\n",
    "]\n",
    "\n",
    "position_offering_types_filters = [\n",
    "    \"internships\",\n",
    "    \"internship\",\n",
    "\n",
    "]\n",
    "\n",
    "job_category_filters = [\n",
    "    \"student\",\n",
    "    \"trainee\",\n",
    "]\n",
    "\n",
    "\n",
    "drop_from_position_offering_type = [\n",
    "    'permanent',\n",
    "    'years',\n",
    "    'yrs',\n",
    "    'indefinite',\n",
    "    '2yrs',\n",
    "    '3yrS',\n",
    "    'full-time',\n",
    "    'full time',\n",
    "    'more than 1-year',\n",
    "    '4 year term',\n",
    "    '3 year',\n",
    "    'multiple appointment types',\n",
    "    'regular category position',\n",
    "]\n",
    "\n",
    "department_filters = [\n",
    "    'Legislative Branch',\n",
    "    'Department of the Air Force',\n",
    "    'Department of Veterans Affairs',\n",
    "    'Department of the Army',\n",
    "    'Department of Health And Human Services',\n",
    "    'Department of Defense',\n",
    "    'Department of the Navy',\n",
    "    'Department of Education',\n",
    "    'Department of Labor',\n",
    "    'Department of Justice',\n",
    "    'Department of Transportation',\n",
    "    'Judicial Branch',\n",
    "    'Department of the Treasury',\n",
    "    'Department of Homeland Security'\n",
    "]\n",
    "\n",
    "department_filters = [d.lower() for d in department_filters]\n",
    "\n",
    "organization_filters = [\n",
    " 'Office of the Inspector General, USPS',\n",
    " 'Securities and Exchange Commission',\n",
    " 'National Labor Relations Board',\n",
    " 'Federal Deposit Insurance Corporation',\n",
    " 'Consumer Financial Protection Bureau',\n",
    " 'Development Finance Corporation (formerly Overseas Private Investment Corporation)',\n",
    " 'Office of Personnel Management'\n",
    "]\n",
    "\n",
    "organization_filters = [o.lower() for o in organization_filters]"
   ]
  },
  {
   "cell_type": "code",
   "execution_count": 6,
   "metadata": {},
   "outputs": [
    {
     "name": "stderr",
     "output_type": "stream",
     "text": [
      "/var/folders/d0/z_whkhv916714yx3v2btvpqh0000gn/T/ipykernel_4248/3778356154.py:11: UserWarning: This pattern has match groups. To actually get the groups, use str.extract.\n",
      "  test_df = test_df[~test_df.organization.str.lower().str.contains('|'.join(organization_filters))]\n"
     ]
    }
   ],
   "source": [
    "# position_titles_filter\n",
    "test_df = df[(df.position_title.str.lower().str.contains('|'.join(position_title_filters))) |\n",
    "    (df.position_offering_type.str.lower().str.contains('|'.join(position_offering_types_filters))) |\n",
    "    (df.job_category.str.lower().str.contains('|'.join(job_category_filters)))] \n",
    "    \n",
    "\n",
    "# filtered for agencies\n",
    "test_df = test_df[~test_df.department.str.lower().str.contains('|'.join(department_filters))]\n",
    "\n",
    "# filtered for agencies\n",
    "test_df = test_df[~test_df.organization.str.lower().str.contains('|'.join(organization_filters))]\n",
    "\n",
    "# filtered for position_offering_types\n",
    "test_df = test_df[~test_df.position_offering_type.str.lower().str.contains('|'.join(drop_from_position_offering_type))]\n"
   ]
  },
  {
   "cell_type": "code",
   "execution_count": 7,
   "metadata": {},
   "outputs": [
    {
     "name": "stdout",
     "output_type": "stream",
     "text": [
      "Min Pay:  count       51.000000\n",
      "mean     10066.921373\n",
      "std      16822.141237\n",
      "min          0.000000\n",
      "25%          0.000000\n",
      "50%         15.470000\n",
      "75%      26916.000000\n",
      "max      54727.000000\n",
      "Name: min_pay, dtype: float64\n"
     ]
    }
   ],
   "source": [
    "print('Min Pay: ', test_df.min_pay.astype(float).describe())"
   ]
  },
  {
   "cell_type": "code",
   "execution_count": 8,
   "metadata": {},
   "outputs": [
    {
     "name": "stdout",
     "output_type": "stream",
     "text": [
      "<class 'pandas.core.frame.DataFrame'>\n",
      "Int64Index: 51 entries, 2 to 157\n",
      "Data columns (total 20 columns):\n",
      " #   Column                      Non-Null Count  Dtype \n",
      "---  ------                      --------------  ----- \n",
      " 0   usajobs_id                  51 non-null     object\n",
      " 1   position_title              51 non-null     object\n",
      " 2   position_uri                51 non-null     object\n",
      " 3   position_apply_uri          51 non-null     object\n",
      " 4   position_location           51 non-null     object\n",
      " 5   organization                51 non-null     object\n",
      " 6   department                  51 non-null     object\n",
      " 7   qualifications              51 non-null     object\n",
      " 8   min_pay                     51 non-null     object\n",
      " 9   max_pay                     51 non-null     object\n",
      " 10  pay_type                    51 non-null     object\n",
      " 11  position_offering_type      51 non-null     object\n",
      " 12  job_category                51 non-null     object\n",
      " 13  job_summary                 51 non-null     object\n",
      " 14  agency_marketing_statement  51 non-null     object\n",
      " 15  major_duties                51 non-null     object\n",
      " 16  education                   51 non-null     object\n",
      " 17  requirements                51 non-null     object\n",
      " 18  evaluation                  51 non-null     object\n",
      " 19  key_requirements            51 non-null     object\n",
      "dtypes: object(20)\n",
      "memory usage: 8.4+ KB\n"
     ]
    }
   ],
   "source": [
    "test_df.info()"
   ]
  },
  {
   "cell_type": "code",
   "execution_count": 9,
   "metadata": {},
   "outputs": [
    {
     "data": {
      "text/plain": [
       "['Department of Agriculture',\n",
       " 'Other Agencies and Independent Organizations',\n",
       " 'Department of the Interior',\n",
       " 'Department of Commerce',\n",
       " 'National Foundation on the Arts and the Humanities']"
      ]
     },
     "execution_count": 9,
     "metadata": {},
     "output_type": "execute_result"
    }
   ],
   "source": [
    "list(test_df.department.unique())"
   ]
  },
  {
   "cell_type": "code",
   "execution_count": 10,
   "metadata": {},
   "outputs": [],
   "source": [
    "test_df.to_csv('usa_jobs_internships.csv', index=False)"
   ]
  },
  {
   "cell_type": "code",
   "execution_count": 11,
   "metadata": {},
   "outputs": [
    {
     "data": {
      "text/plain": [
       "['Federal Maritime Commission',\n",
       " 'Environmental Protection Agency',\n",
       " 'Federal Trade Commission',\n",
       " 'U.S. Agency for International Development',\n",
       " 'Development Finance Corporation (formerly Overseas Private Investment Corporation)']"
      ]
     },
     "execution_count": 11,
     "metadata": {},
     "output_type": "execute_result"
    }
   ],
   "source": [
    "list(test_df[test_df.department == 'Other Agencies and Independent Organizations'].organization.unique())"
   ]
  },
  {
   "cell_type": "code",
   "execution_count": null,
   "metadata": {},
   "outputs": [],
   "source": []
  }
 ],
 "metadata": {
  "interpreter": {
   "hash": "4efb34fdd44591087287cb647f8e075132d6a6d57ecc05eaa3a80a5de4ea1f8b"
  },
  "kernelspec": {
   "display_name": "Python 3.9.9 64-bit (windows store)",
   "language": "python",
   "name": "python3"
  },
  "language_info": {
   "codemirror_mode": {
    "name": "ipython",
    "version": 3
   },
   "file_extension": ".py",
   "mimetype": "text/x-python",
   "name": "python",
   "nbconvert_exporter": "python",
   "pygments_lexer": "ipython3",
   "version": "3.8.8"
  },
  "orig_nbformat": 4
 },
 "nbformat": 4,
 "nbformat_minor": 2
}
